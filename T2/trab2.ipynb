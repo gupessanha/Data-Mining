{
 "cells": [
  {
   "cell_type": "code",
   "execution_count": 12,
   "id": "e146276a",
   "metadata": {},
   "outputs": [],
   "source": [
    "import pandas as pd\n",
    "import numpy as np\n",
    "import seaborn as sns\n",
    "import matplotlib.pyplot as plt\n",
    "from pathlib import Path\n",
    "\n",
    "script_dir = Path('__file__').resolve().parent\n"
   ]
  },
  {
   "cell_type": "code",
   "execution_count": 17,
   "id": "505ca419",
   "metadata": {},
   "outputs": [],
   "source": [
    "data_path = script_dir.joinpath('data')"
   ]
  },
  {
   "cell_type": "code",
   "execution_count": 20,
   "id": "2e871c66",
   "metadata": {},
   "outputs": [],
   "source": [
    "df_holidays = pd.read_csv(data_path.joinpath('holidays_events.csv'))\n",
    "df_oil = pd.read_csv(data_path.joinpath('oil.csv'))\n",
    "df_stoes = pd.read_csv(data_path.joinpath('stores.csv'))\n",
    "df_tansactions = pd.read_csv(data_path.joinpath('transactions.csv'))\n",
    "df_test = pd.read_csv(data_path.joinpath('test.csv'))\n",
    "df_tain = pd.read_csv(data_path.joinpath('train.csv'))"
   ]
  },
  {
   "cell_type": "code",
   "execution_count": null,
   "id": "764e9b97",
   "metadata": {},
   "outputs": [],
   "source": []
  }
 ],
 "metadata": {
  "kernelspec": {
   "display_name": "Python Datamining",
   "language": "python",
   "name": "datamining"
  },
  "language_info": {
   "codemirror_mode": {
    "name": "ipython",
    "version": 3
   },
   "file_extension": ".py",
   "mimetype": "text/x-python",
   "name": "python",
   "nbconvert_exporter": "python",
   "pygments_lexer": "ipython3",
   "version": "3.13.3"
  }
 },
 "nbformat": 4,
 "nbformat_minor": 5
}
